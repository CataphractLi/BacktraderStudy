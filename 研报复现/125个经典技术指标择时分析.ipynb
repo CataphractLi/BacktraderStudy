{
 "cells": [
  {
   "cell_type": "markdown",
   "metadata": {},
   "source": [
    "# 125个经典技术指标择时分析\n",
    "## 广发证券 2020年1月3日"
   ]
  },
  {
   "cell_type": "code",
   "execution_count": null,
   "metadata": {},
   "outputs": [],
   "source": [
    "# 数据接口 \n",
    "import akshare as ak\n",
    "import baostock as bs\n",
    "import tushare as ts\n",
    "\n",
    "# 基础模块\n",
    "import datetime\n",
    "import matplotlib.pyplot as plt\n",
    "import numpy as np\n",
    "import pandas as pd\n",
    "import random\n",
    "import time\n",
    "import os\n",
    "\n",
    "# 回测框架\n",
    "import backtrader as bt\n",
    "import backtrader.indicators as btind\n",
    "import backtrader.feeds as btfeed\n",
    "import indicatorJ\n",
    "\n",
    "# 基础函数\n",
    "import utilsJ"
   ]
  },
  {
   "cell_type": "markdown",
   "metadata": {},
   "source": [
    "## 策略"
   ]
  },
  {
   "cell_type": "markdown",
   "metadata": {},
   "source": [
    "### 策略主体"
   ]
  },
  {
   "cell_type": "code",
   "execution_count": null,
   "metadata": {},
   "outputs": [],
   "source": [
    "class alpha191(bt.Strategy):\n",
    "    \n",
    "    params = (\n",
    "        ('printlog', False),\n",
    "    )\n",
    "    \n",
    "    \n",
    "    def log(self, txt, dt=None, doprint=False):\n",
    "        ''' Logging function fot this strategy'''\n",
    "        if self.params.printlog or doprint:\n",
    "            dt = dt or self.data.datetime.date(0)\n",
    "            print('%s: %s' % (dt.isoformat(), txt))\n",
    "            #with open('log.txt', 'a') as file:\n",
    "                #file.write('%s: %s \\n' % (dt.isoformat(), txt))\n",
    "        \n",
    "    \n",
    "    def __init__(self):\n",
    "        \n",
    "        # Keep a reference to the \"close\" line, buyprice and sellprice in the data[0] dataseries\n",
    "        self.buyprice = None\n",
    "        self.sellprice = None\n",
    "        \n",
    "        self.ER = \n",
    "\n",
    "\n",
    "    def notify_order(self, order):\n",
    "        if order.status in [order.Submitted, order.Accepted]:\n",
    "            # Buy/Sell order submitted/accepted to/by broker - Nothing to do\n",
    "            return\n",
    "\n",
    "        # Check if an order has been completed\n",
    "        # Attention: broker could reject order if not enough cash\n",
    "        if order.status in [order.Completed]:\n",
    "            if order.isbuy():\n",
    "                \n",
    "                self.log('BUY EXECUTED, Price: %.2f, Lot:%i, Cash: %i, Value: %i' %\n",
    "                         (order.executed.price,\n",
    "                          order.executed.size,\n",
    "                          self.broker.get_cash(),\n",
    "                          self.broker.get_value()))\n",
    "                self.buyprice = order.executed.price\n",
    "\n",
    "            else:  # Sell\n",
    "                self.log('SELL EXECUTED, Price: %.2f, Lot:%i, Cash: %i, Value: %i' %\n",
    "                        (order.executed.price,\n",
    "                          -order.executed.size,\n",
    "                          self.broker.get_cash(),\n",
    "                          self.broker.get_value()))\n",
    "                self.sellprice = order.executed.price\n",
    "\n",
    "        elif order.status in [order.Canceled, order.Margin, order.Rejected]:\n",
    "            self.log('Order Canceled/Margin/Rejected')\n",
    "\n",
    "\n",
    "    def notify_trade(self, trade):\n",
    "        if not trade.isclosed:\n",
    "            return\n",
    "\n",
    "        self.log('OPERATION PROFIT, GROSS %.2f, NET %.2f' %\n",
    "                 (trade.pnl, trade.pnlcomm))\n",
    "        \n",
    "        \n",
    "    def next(self):\n",
    "#        if self.order:\n",
    "#            return\n",
    "        print(self.alpha168[0])"
   ]
  }
 ],
 "metadata": {
  "kernelspec": {
   "display_name": "Python 3.8.13 ('py38')",
   "language": "python",
   "name": "python3"
  },
  "language_info": {
   "name": "python",
   "version": "3.8.13"
  },
  "orig_nbformat": 4,
  "vscode": {
   "interpreter": {
    "hash": "178729c8f5e9eedf2bae7ea816478a89001acb4e6c66f13ce64ddbee9dd2f878"
   }
  }
 },
 "nbformat": 4,
 "nbformat_minor": 2
}
