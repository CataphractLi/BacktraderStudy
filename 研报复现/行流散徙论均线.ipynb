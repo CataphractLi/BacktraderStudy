{
 "cells": [
  {
   "cell_type": "markdown",
   "metadata": {},
   "source": [
    "# 行流散徙论均线\n",
    "## 光大证券 2018年3月11日"
   ]
  },
  {
   "cell_type": "code",
   "execution_count": null,
   "metadata": {},
   "outputs": [],
   "source": [
    "# 数据接口 \n",
    "import akshare as ak\n",
    "import baostock as bs\n",
    "import tushare as ts\n",
    "\n",
    "# 基础模块\n",
    "import datetime\n",
    "import matplotlib.pyplot as plt\n",
    "import numpy as np\n",
    "import pandas as pd\n",
    "import time\n",
    "import os\n",
    "\n",
    "# 回测框架\n",
    "import backtrader as bt\n",
    "import backtrader.indicators as btind\n",
    "import backtrader.feeds as btfeed\n",
    "import indicatorJ\n",
    "\n",
    "# 基础函数\n",
    "import utilsJ"
   ]
  }
 ],
 "metadata": {
  "kernelspec": {
   "display_name": "Python 3.8.13 ('py38')",
   "language": "python",
   "name": "python3"
  },
  "language_info": {
   "name": "python",
   "version": "3.8.13"
  },
  "orig_nbformat": 4,
  "vscode": {
   "interpreter": {
    "hash": "178729c8f5e9eedf2bae7ea816478a89001acb4e6c66f13ce64ddbee9dd2f878"
   }
  }
 },
 "nbformat": 4,
 "nbformat_minor": 2
}
