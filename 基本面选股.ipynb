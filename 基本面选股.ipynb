{
 "cells": [
  {
   "cell_type": "markdown",
   "metadata": {},
   "source": [
    "# 基本面选股"
   ]
  },
  {
   "cell_type": "code",
   "execution_count": null,
   "metadata": {},
   "outputs": [],
   "source": [
    "# 数据接口 \n",
    "import akshare as ak\n",
    "import baostock as bs\n",
    "import tushare as ts\n",
    "\n",
    "# 基础模块\n",
    "import datetime\n",
    "import matplotlib.pyplot as plt\n",
    "import numpy as np\n",
    "import pandas as pd\n",
    "import random\n",
    "import time\n",
    "\n",
    "# 机器学习模块\n",
    "import xgboost as xgb\n",
    "\n",
    "# 回测框架\n",
    "import backtrader as bt\n",
    "import backtrader.indicators as btind\n",
    "\n",
    "# 基础函数\n",
    "import utilsJ"
   ]
  },
  {
   "cell_type": "markdown",
   "metadata": {},
   "source": [
    "## 基本面因子\n",
    "\n",
    "### 盈利性\n",
    "+ 毛利率\n",
    "+ 净利率\n",
    "+ ROE\n",
    "+ 营收同比增长率\n",
    "+ 净利润同比增长率\n",
    "+ 扣非净利润\n",
    "\n",
    "### 流动性\n",
    "+ 资产负债率\n",
    "+ 流动比率\n",
    "+ 速动比率\n",
    "+ 应收账款周转率\n",
    "+ 应收账款账龄分布\n",
    "+ 存货周转率\n",
    "\n",
    "### 估值\n",
    "+ PE倍数（市盈率）\n",
    "+ PB倍数（市净率）\n",
    "+ PEG\n",
    "\n",
    "### 其他\n",
    "+ 商誉占总资产比重\n",
    "+ 商誉占净资产比重"
   ]
  },
  {
   "cell_type": "markdown",
   "metadata": {},
   "source": [
    "# 全市场循环"
   ]
  },
  {
   "cell_type": "code",
   "execution_count": null,
   "metadata": {},
   "outputs": [],
   "source": [
    "s_date = datetime.datetime.now()- datetime.timedelta(days=365*2)\n",
    "e_date = datetime.datetime.now()\n",
    "\n",
    "pro = ts.pro_api('74f1379591c9d810854fa5891fffcacaba514b82bf17ec2e239025b6')\n",
    "stock_list = pro.query('stock_basic', exchange='', list_status='L', fields='ts_code').ts_code\n",
    "\n",
    "roe_list = {}\n",
    "for s in stock_list:\n",
    "    df = utilsJ_ML.stock_finance('74f1379591c9d810854fa5891fffcacaba514b82bf17ec2e239025b6',s,s_date, e_date)\n",
    "    df.reset_index(inplace=True)\n",
    "    try:\n",
    "        df['roe_seasonal'] = df.roe_dt.diff()\n",
    "        df.loc[[x.month == 3 for x in df.trade_date],'roe_seasonal'] = df[[x.month == 3 for x in df.trade_date]]['roe_dt']\n",
    "        if df.roe_seasonal.iloc[-1] > df.roe_seasonal.iloc[-2] and df.roe_seasonal.iloc[-2] > df.roe_seasonal.iloc[-3] and (df.roe_seasonal.iloc[-1] + df.roe_seasonal.iloc[-2]) > (df.roe_seasonal.iloc[-3] + df.roe_seasonal.iloc[-4]):\n",
    "            roe_list[s] = df.roe_dt.iloc[-1]\n",
    "    except:\n",
    "        print(s)\n",
    "        print(df)\n",
    "    time.sleep(0.8)\n",
    "sorted(roe_list.items(), key=lambda x:x[1])[-int(np.round(len(roe_list) * 0.2)):-1]"
   ]
  }
 ],
 "metadata": {
  "kernelspec": {
   "display_name": "Python 3.8.13 ('py38')",
   "language": "python",
   "name": "python3"
  },
  "language_info": {
   "name": "python",
   "version": "3.8.13"
  },
  "orig_nbformat": 4,
  "vscode": {
   "interpreter": {
    "hash": "178729c8f5e9eedf2bae7ea816478a89001acb4e6c66f13ce64ddbee9dd2f878"
   }
  }
 },
 "nbformat": 4,
 "nbformat_minor": 2
}
