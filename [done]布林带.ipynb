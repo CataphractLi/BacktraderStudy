{
 "cells": [
  {
   "cell_type": "markdown",
   "metadata": {},
   "source": [
    "# 布林带策略"
   ]
  },
  {
   "cell_type": "code",
   "execution_count": 2,
   "metadata": {},
   "outputs": [],
   "source": [
    "# 数据接口 \n",
    "import akshare as ak\n",
    "import baostock as bs\n",
    "import tushare as ts\n",
    "\n",
    "# 基础模块\n",
    "import datetime as dt\n",
    "import matplotlib.pyplot as plt\n",
    "import numpy as np\n",
    "import os\n",
    "import pandas as pd\n",
    "import time\n",
    "\n",
    "# 回测框架\n",
    "import backtrader as bt\n",
    "import backtrader.indicators as btind\n",
    "import backtrader.feeds as btfeed\n",
    "\n",
    "# 基础函数\n",
    "import utilsJ"
   ]
  },
  {
   "cell_type": "markdown",
   "metadata": {},
   "source": [
    "## 策略主体\n",
    "\n",
    "买入信号：收盘价向上突破布林带上界或下界时买入。\n",
    "\n",
    "买入仓位：每次满仓买入(做空同理)。\n",
    "\n",
    "卖出信号：收盘价向下突破布林带上界或下界时卖出。\n",
    "\n",
    "卖出仓位：清仓。"
   ]
  },
  {
   "cell_type": "markdown",
   "metadata": {},
   "source": [
    "### 个股版本"
   ]
  },
  {
   "cell_type": "code",
   "execution_count": 3,
   "metadata": {},
   "outputs": [],
   "source": [
    "class Bollinger_s(bt.Strategy):\n",
    "    \n",
    "    params = (\n",
    "        ('printlog', False),\n",
    "        ('b_per', 20),\n",
    "        ('b_dev', 2),\n",
    "        ('allow_short', False),\n",
    "        ('stake', 100),\n",
    "    )\n",
    "    \n",
    "    \n",
    "    def log(self, txt, dt=None, doprint=False):\n",
    "        if self.params.printlog or doprint:\n",
    "            dt = dt or self.data.datetime.date(0)\n",
    "            print('%s: %s' % (dt.isoformat(), txt))\n",
    "            #with open('log.txt', 'a') as file:\n",
    "                #file.write('%s: %s \\n' % (dt.isoformat(), txt))\n",
    "        \n",
    "    \n",
    "    def __init__(self):\n",
    "        # Initialization\n",
    "        self.order = None\n",
    "        self.buyprice = None\n",
    "        self.sellprice = None\n",
    "\n",
    "        # Alias\n",
    "        self.dataclose = self.data.close\n",
    "\n",
    "        # Indicators\n",
    "        ## Bollinger\n",
    "        self.bollinger = btind.BollingerBands(self.data.close,\n",
    "                                              period=self.p.b_per, \n",
    "                                              devfactor=self.p.b_dev)\n",
    "\n",
    "        # Signals\n",
    "        self.buy_s = bt.Or(bt.And(self.data.close(0) > self.bollinger.top(0), \n",
    "                                  self.data.close(-1) < self.bollinger.top(-1)),\n",
    "                           bt.And(self.data.close(0) > self.bollinger.bot(0), \n",
    "                                  self.data.close(-1) < self.bollinger.bot(-1)))\n",
    "        \n",
    "        self.sell_s = bt.Or(bt.And(self.data.close(0) < self.bollinger.top(0), \n",
    "                                   self.data.close(-1) > self.bollinger.top(-1)),\n",
    "                            bt.And(self.data.close(0) < self.bollinger.bot(0), \n",
    "                                   self.data.close(-1) > self.bollinger.bot(-1)))\n",
    "\n",
    "\n",
    "    def notify_order(self, order):\n",
    "        if order.status in [order.Submitted, order.Accepted]:\n",
    "            return\n",
    "\n",
    "        if order.status in [order.Completed]:\n",
    "            if order.isbuy():\n",
    "                self.log('BUY EXECUTED, Price: %.2f, Lot:%i, Cash: %i, Value: %i' %\n",
    "                         (order.executed.price, order.executed.size,\n",
    "                          self.broker.get_cash(), self.broker.get_value()))\n",
    "                self.buyprice = order.executed.price\n",
    "\n",
    "            else:\n",
    "                self.log('SELL EXECUTED, Price: %.2f, Lot:%i, Cash: %i, Value: %i' %\n",
    "                        (order.executed.price, -order.executed.size,\n",
    "                         self.broker.get_cash(), self.broker.get_value()))\n",
    "                self.sellprice = order.executed.price\n",
    "\n",
    "        elif order.status in [order.Canceled, order.Margin, order.Rejected]:\n",
    "            self.log('Order Canceled/Margin/Rejected')\n",
    "\n",
    "\n",
    "    def notify_trade(self, trade):\n",
    "        if not trade.isclosed:\n",
    "            return\n",
    "\n",
    "        self.log('OPERATION PROFIT, GROSS %.2f, NET %.2f' %\n",
    "                 (trade.pnl, trade.pnlcomm))\n",
    "        \n",
    "        \n",
    "    def next(self):\n",
    "        if self.order:\n",
    "            return\n",
    "\n",
    "        lot_ava = self.broker.get_cash() // (self.dataclose[0] * self.p.stake) * self.p.stake\n",
    "\n",
    "        if self.buy_s[0]:\n",
    "            if self.getposition(self.data).size == 0 and lot_ava > 0: # Open position\n",
    "                self.log('BUY CREATE, Price: %.2f, Lots: %i' %\n",
    "                         (self.dataclose[0], lot_ava))\n",
    "                self.order = self.buy(size=lot_ava)\n",
    "            elif self.getposition(self.data).size < 0: # Close position\n",
    "                self.log('BUY CREATE (Close), Price: %.2f, Lots: %i' %\n",
    "                         (self.dataclose[0], -self.getposition(self.data).size))\n",
    "                self.order = self.buy(size=lot_ava)\n",
    "\n",
    "        elif self.sell_s[0]:\n",
    "            if self.getposition(self.data).size == 0 and self.p.allow_short: # Open position\n",
    "                self.log('SELL CREATE, Price: %.2f, Lots: %i' %\n",
    "                         (self.dataclose[0], lot_ava))\n",
    "                self.order = self.sell(size=lot_ava)\n",
    "            elif self.getposition(self.data).size > 0: # Close position\n",
    "                self.log('SELL CREATE (Close), Price: %.2f, Lots: %i' %\n",
    "                         (self.dataclose[0], self.getposition(self.data).size))\n",
    "                self.order = self.close()"
   ]
  },
  {
   "cell_type": "markdown",
   "metadata": {},
   "source": [
    "## 回测"
   ]
  },
  {
   "cell_type": "markdown",
   "metadata": {},
   "source": [
    "### 个股回测"
   ]
  },
  {
   "cell_type": "code",
   "execution_count": 4,
   "metadata": {},
   "outputs": [
    {
     "name": "stdout",
     "output_type": "stream",
     "text": [
      "Starting Portfolio Value: 10000.00\n",
      "2021-03-02: BUY CREATE, Price: 7.15, Lots: 1300\n",
      "2021-03-03: BUY EXECUTED, Price: 7.15, Lot:1300, Cash: 707, Value: 10429\n",
      "Final Portfolio Value: 12494.96\n"
     ]
    }
   ],
   "source": [
    "stock_code = '002057.SZ'\n",
    "startdate = dt.datetime(2021,1,1)\n",
    "enddate = dt.datetime(2021,12,31)\n",
    "\n",
    "\n",
    "if __name__ ==  '__main__':\n",
    "    \n",
    "    # Initialization\n",
    "    cerebro = bt.Cerebro()\n",
    "    strats = cerebro.addstrategy(Bollinger_s, printlog=True) \n",
    "\n",
    "    # Data\n",
    "    df = utilsJ.get_stock(stock_code, startdate, enddate)\n",
    "    data = btfeed.PandasData(dataname=df,fromdate=startdate,todate=enddate)\n",
    "    cerebro.adddata(data)\n",
    "    \n",
    "    # Start condition\n",
    "    cerebro.broker = bt.brokers.BackBroker(coc=True)\n",
    "    cerebro.broker.setcash(10000)\n",
    "    #cerebro.broker.setcommission()\n",
    "    start_value = cerebro.broker.getvalue()\n",
    "    print('Starting Portfolio Value: %.2f' % cerebro.broker.getvalue())\n",
    "\n",
    "    # Execution\n",
    "    cerebro.run()\n",
    "\n",
    "    # Final result\n",
    "    final_value = cerebro.broker.getvalue()\n",
    "    print('Final Portfolio Value: %.2f' % cerebro.broker.getvalue())"
   ]
  },
  {
   "cell_type": "markdown",
   "metadata": {},
   "source": [
    "### 股指期货回测调参 (沪深当月)"
   ]
  },
  {
   "cell_type": "code",
   "execution_count": null,
   "metadata": {},
   "outputs": [],
   "source": [
    "future_code = 'IFL.CFX'\n",
    "startdate = dt.date(2021,1,1)\n",
    "enddate = dt.date(2021,12,31)\n",
    "\n",
    "if __name__ ==  '__main__':\n",
    "    \n",
    "    df = utilsJ.future_ts(future_code, startdate, enddate)\n",
    "    max_np = 0.0\n",
    "    max_idx = (0, 0.0)\n",
    "    \n",
    "    for i in range(3, 31, 1):\n",
    "        for j in np.arange(0.2, 2.1, 0.1):\n",
    "            \n",
    "            # Initialization\n",
    "            cerebro = bt.Cerebro()\n",
    "            strats = cerebro.addstrategy(Bollinger_s, printlog=False, b_per=i, b_dev=float(j), allow_short=True)\n",
    "\n",
    "            # Data\n",
    "            data = btfeed.PandasData(dataname=df,fromdate=startdate,todate=enddate)\n",
    "            cerebro.adddata(data)\n",
    "\n",
    "            # Start condition\n",
    "            cerebro.broker = bt.brokers.BackBroker(coc=True)\n",
    "            cerebro.broker.setcash(100000.00)\n",
    "            start_value = cerebro.broker.getvalue()\n",
    "            #print('Starting Portfolio Value: %.2f' % cerebro.broker.getvalue())\n",
    "\n",
    "            # Execution\n",
    "            cerebro.run()\n",
    "\n",
    "            # Final results\n",
    "            final_value = cerebro.broker.getvalue()\n",
    "            netp = (final_value / start_value - 1) * 100\n",
    "            if netp > max_np:\n",
    "                max_np = netp\n",
    "                max_idx = (i, j)\n",
    "    print(max_np, max_idx)"
   ]
  }
 ],
 "metadata": {
  "kernelspec": {
   "display_name": "Python 3.8.13 ('py38')",
   "language": "python",
   "name": "python3"
  },
  "language_info": {
   "codemirror_mode": {
    "name": "ipython",
    "version": 3
   },
   "file_extension": ".py",
   "mimetype": "text/x-python",
   "name": "python",
   "nbconvert_exporter": "python",
   "pygments_lexer": "ipython3",
   "version": "3.8.13"
  },
  "orig_nbformat": 4,
  "vscode": {
   "interpreter": {
    "hash": "178729c8f5e9eedf2bae7ea816478a89001acb4e6c66f13ce64ddbee9dd2f878"
   }
  }
 },
 "nbformat": 4,
 "nbformat_minor": 2
}
