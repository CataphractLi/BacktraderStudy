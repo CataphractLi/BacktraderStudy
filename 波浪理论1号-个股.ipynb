{
 "cells": [
  {
   "cell_type": "code",
   "execution_count": 12,
   "id": "0359b771",
   "metadata": {},
   "outputs": [],
   "source": [
    "# 数据接口 \n",
    "import akshare as ak\n",
    "import baostock as bs\n",
    "import tushare as ts\n",
    "\n",
    "# 基础模块\n",
    "import datetime\n",
    "import matplotlib.pyplot as plt\n",
    "import numpy as np\n",
    "import pandas as pd\n",
    "import time\n",
    "\n",
    "# 回测框架\n",
    "import backtrader as bt\n",
    "\n",
    "# 基础函数\n",
    "import utilsJ"
   ]
  },
  {
   "cell_type": "markdown",
   "id": "6fb8f07e",
   "metadata": {},
   "source": [
    "# 策略"
   ]
  },
  {
   "cell_type": "code",
   "execution_count": 13,
   "id": "59f48902",
   "metadata": {},
   "outputs": [],
   "source": [
    "class Strategy_wave1(bt.Strategy):\n",
    "    \n",
    "    params = (\n",
    "        ('printlog', False),\n",
    "        ('smoothing_period', 5),\n",
    "        ('stack_len', 3),\n",
    "    )\n",
    "    \n",
    "    \n",
    "    def log(self, txt, dt=None, doprint=False):\n",
    "        ''' Logging function fot this strategy'''\n",
    "        if self.params.printlog or doprint:\n",
    "            dt = dt or self.datas[0].datetime.date(0)\n",
    "            print('%s: %s' % (dt.isoformat(), txt))\n",
    "            #with open('log.txt', 'a') as file:\n",
    "                #file.write('%s: %s \\n' % (dt.isoformat(), txt))\n",
    "        \n",
    "    \n",
    "    def __init__(self):\n",
    "        \n",
    "        # Keep a reference to the \"close\" line in the data[0] dataseries\n",
    "        self.dataclose = self.datas[0].close\n",
    "        self.buyprice = None\n",
    "        self.sellprice = None\n",
    "\n",
    "        # Add a MovingAverageSimple indicator\n",
    "        self.sma = bt.indicators.SimpleMovingAverage(\n",
    "                    self.datas[0], period=self.params.smoothing_period)\n",
    "        \n",
    "        # Add a singal stack\n",
    "        self.stack = [0] * self.params.stack_len\n",
    "        \n",
    "    def notify_order(self, order):\n",
    "        if order.status in [order.Submitted, order.Accepted]:\n",
    "            # Buy/Sell order submitted/accepted to/by broker - Nothing to do\n",
    "            return\n",
    "\n",
    "        # Check if an order has been completed\n",
    "        # Attention: broker could reject order if not enough cash\n",
    "        if order.status in [order.Completed]:\n",
    "            if order.isbuy():\n",
    "                \n",
    "                self.log('BUY EXECUTED, Price: %.2f, Lot:%i, Cash: %i, Value: %i' %\n",
    "                         (order.executed.price,\n",
    "                          order.executed.size,\n",
    "                          self.broker.get_cash(),\n",
    "                          self.broker.get_value()))\n",
    "                self.buyprice = order.executed.price\n",
    "\n",
    "            else:  # Sell\n",
    "                self.log('SELL EXECUTED, Price: %.2f, Lot:%i, Cash: %i, Value: %i' %\n",
    "                        (order.executed.price,\n",
    "                          -order.executed.size,\n",
    "                          self.broker.get_cash(),\n",
    "                          self.broker.get_value()))\n",
    "                self.sellprice = order.executed.price\n",
    "\n",
    "        elif order.status in [order.Canceled, order.Margin, order.Rejected]:\n",
    "            self.log('Order Canceled/Margin/Rejected')\n",
    "\n",
    "        # Write down: no pending order\n",
    "        #self.order = None\n",
    "\n",
    "    def notify_trade(self, trade):\n",
    "        if not trade.isclosed:\n",
    "            return\n",
    "\n",
    "        self.log('OPERATION PROFIT, GROSS %.2f, NET %.2f' %\n",
    "                 (trade.pnl, trade.pnlcomm))\n",
    "        \n",
    "        \n",
    "    def next(self):\n",
    "        \n",
    "        # Check if an order is pending ... if yes, we cannot send a 2nd one\n",
    "        #if self.order:\n",
    "        #    return\n",
    "        \n",
    "        for i in range(1, self.params.stack_len+1):\n",
    "            self.stack[-i] = 1 if self.sma[-i+1] - self.sma[-i] > 0 else -1\n",
    "            \n",
    "        # Wave Buy Signal\n",
    "        if self.stack[-1] == 1 and sum(self.stack) in [-1 * (self.params.stack_len - 2), -1 * (self.params.stack_len - 3)]:\n",
    "            if self.buyprice is None:\n",
    "                self.log('BUY CREATE, Price: %.2f, Lots: %i, Current Position: %i' % (self.dataclose[0], \n",
    "                                                                                      100, self.getposition(self.data).size))\n",
    "                self.buy(size = 100)            \n",
    "            elif self.dataclose > self.buyprice:\n",
    "                self.log('BUY CREATE, Price: %.2f, Lots: %i, Current Position: %i' % (self.dataclose[0], \n",
    "                                                                                                 100, self.getposition(self.data).size))\n",
    "                self.buy(size = 100)\n",
    "\n",
    "        # Wave Sell Singal\n",
    "        elif self.stack[-1] == -1 and sum(self.stack) in [1 * (self.params.stack_len - 2), 1 * (self.params.stack_len - 3)]:\n",
    "                if self.getposition(self.data).size > 0:\n",
    "                    self.log('SELL CREATE (Close), Price: %.2f, Lots: %i' % (self.dataclose[0], \n",
    "                                                                                            self.getposition(self.data).size))\n",
    "                    self.close()\n",
    "                    \n",
    "        # Keep track of the created order to avoid a 2nd order\n",
    "        #self.order = self.sell(size = self.getposition(data).size - opt_position)                   "
   ]
  },
  {
   "cell_type": "markdown",
   "id": "8972538c",
   "metadata": {},
   "source": [
    "# 思路"
   ]
  },
  {
   "cell_type": "markdown",
   "id": "9479f2b7",
   "metadata": {},
   "source": [
    "中钢天源(002057)过去一年(2021/09/22至2022/09/21)的股价收盘价波动为下图蓝线。\n",
    "\n",
    "将其取7日平均之后可得橘线。\n",
    "\n",
    "橘线可大致看成为该股票的波形。"
   ]
  },
  {
   "cell_type": "code",
   "execution_count": null,
   "id": "3705e120",
   "metadata": {},
   "outputs": [],
   "source": [
    "%matplotlib inline\n",
    "\n",
    "stock_index = '002057.SZ'\n",
    "df = utilsJ.stock_tushare('74f1379591c9d810854fa5891fffcacaba514b82bf17ec2e239025b6', \n",
    "                          stock_index)\n",
    "\n",
    "plt.plot(range(len(df)), df.close, alpha = 0.5)\n",
    "plt.plot(range(len(df)), df.close.rolling(7).mean())"
   ]
  },
  {
   "cell_type": "markdown",
   "id": "d258d5ab",
   "metadata": {},
   "source": [
    "对橘线进行求一阶导，可得以下趋势，其中每一次穿越 $y=0$ 表示波浪改变方向。"
   ]
  },
  {
   "cell_type": "code",
   "execution_count": null,
   "id": "97fb90f9",
   "metadata": {},
   "outputs": [],
   "source": [
    "%matplotlib inline\n",
    "plt.plot(range(1, len(df)), np.diff(df.close.rolling(7).mean()))\n",
    "plt.axhline(0)"
   ]
  },
  {
   "cell_type": "markdown",
   "id": "4bf5d411",
   "metadata": {},
   "source": [
    "### 策略细节"
   ]
  },
  {
   "cell_type": "markdown",
   "id": "5895fca5",
   "metadata": {},
   "source": [
    "参数：\n",
    "1. 日线平均周期，默认为5。\n",
    "2. 信号栈长短，默认为3.\n",
    "\n",
    "步骤：\n",
    "1. 计算当日均线与昨日均线之差。如差值大于0，则向信号栈末尾添加‘上升’信号(1)；若差值小于等于0，则向信号栈末尾添加'下降'信号(-1)。\n",
    "2. 如果信号栈呈现特定的排列，则释放买入/卖出信号。\n",
    "3. 每次买入100股，每次全部卖出。\n",
    "\n",
    "例如：\n",
    "信号栈长短为3。\n",
    "\n",
    "连续两天下跌，今日上涨，则信号栈为[-1, -1, 1]，可能是从调整浪变为上升浪，则进行买入；\n",
    "\n",
    "连续两天上涨，今日下跌，则信号栈为[1, 1, -1]，可能是从上升浪变为调整浪，则进行卖出。"
   ]
  },
  {
   "cell_type": "markdown",
   "id": "5a8915b3",
   "metadata": {},
   "source": [
    "# 回测 中钢天源 002057 2021/09/22 - 2022/09/21"
   ]
  },
  {
   "cell_type": "code",
   "execution_count": 16,
   "id": "a62561ea",
   "metadata": {
    "scrolled": true
   },
   "outputs": [
    {
     "name": "stdout",
     "output_type": "stream",
     "text": [
      "Starting Portfolio Value: 2000.00\n",
      "2021-10-21: BUY CREATE, Price: 6.86, Lots: 100, Current Position: 0\n",
      "2021-10-22: BUY EXECUTED, Price: 6.86, Lot:100, Cash: 1314, Value: 1988\n",
      "2021-10-26: BUY CREATE, Price: 6.87, Lots: 100, Current Position: 100\n",
      "2021-10-27: BUY EXECUTED, Price: 6.87, Lot:100, Cash: 627, Value: 2067\n",
      "2021-12-03: SELL CREATE (Close), Price: 8.93, Lots: 200\n",
      "2021-12-06: SELL EXECUTED, Price: 8.93, Lot:200, Cash: 2413, Value: 2413\n",
      "2021-12-06: OPERATION PROFIT, GROSS 413.00, NET 413.00\n",
      "2021-12-15: BUY CREATE, Price: 9.45, Lots: 100, Current Position: 0\n",
      "2021-12-16: BUY EXECUTED, Price: 9.45, Lot:100, Cash: 1468, Value: 2409\n",
      "2021-12-24: SELL CREATE (Close), Price: 9.37, Lots: 100\n",
      "2021-12-27: SELL EXECUTED, Price: 9.37, Lot:100, Cash: 2405, Value: 2405\n",
      "2021-12-27: OPERATION PROFIT, GROSS -8.00, NET -8.00\n",
      "2022-06-17: BUY CREATE, Price: 9.98, Lots: 100, Current Position: 0\n",
      "2022-06-20: BUY EXECUTED, Price: 9.98, Lot:100, Cash: 1407, Value: 2413\n",
      "2022-06-22: SELL CREATE (Close), Price: 9.40, Lots: 100\n",
      "2022-06-23: SELL EXECUTED, Price: 9.40, Lot:100, Cash: 2347, Value: 2347\n",
      "2022-06-23: OPERATION PROFIT, GROSS -58.00, NET -58.00\n",
      "2022-07-13: BUY CREATE, Price: 11.30, Lots: 100, Current Position: 0\n",
      "2022-07-14: BUY EXECUTED, Price: 11.30, Lot:100, Cash: 1217, Value: 2391\n",
      "2022-08-01: SELL CREATE (Close), Price: 13.88, Lots: 100\n",
      "2022-08-02: SELL EXECUTED, Price: 13.88, Lot:100, Cash: 2605, Value: 2605\n",
      "2022-08-02: OPERATION PROFIT, GROSS 258.00, NET 258.00\n",
      "2022-08-15: BUY CREATE, Price: 12.67, Lots: 100, Current Position: 0\n",
      "2022-08-16: BUY EXECUTED, Price: 12.67, Lot:100, Cash: 1338, Value: 2648\n",
      "2022-08-24: SELL CREATE (Close), Price: 12.50, Lots: 100\n",
      "2022-08-25: SELL EXECUTED, Price: 12.50, Lot:100, Cash: 2588, Value: 2588\n",
      "2022-08-25: OPERATION PROFIT, GROSS -17.00, NET -17.00\n",
      "Final Portfolio Value: 2588.00\n",
      "Net Profit: 29.40%\n"
     ]
    }
   ],
   "source": [
    "if __name__ ==  '__main__':\n",
    "    # Create a cerebro entity\n",
    "    cerebro = bt.Cerebro()\n",
    "\n",
    "    # Add a strategy\n",
    "    strats = cerebro.addstrategy(Strategy_wave1,printlog=True, smoothing_period=7) \n",
    "\n",
    "    s_date = datetime.datetime.now() - datetime.timedelta(days = 365)\n",
    "    e_date = datetime.datetime.now()\n",
    "\n",
    "    # Create stock Data Feed\n",
    "    stock_index = '002057.SZ'\n",
    "    df = utilsJ.stock_tushare('74f1379591c9d810854fa5891fffcacaba514b82bf17ec2e239025b6', \n",
    "                        stock_index, s_date, e_date)\n",
    "    data = bt.feeds.PandasData(dataname=df,fromdate=s_date,todate=e_date)\n",
    "\n",
    "    # Add the index Data Feed to Cerebo\n",
    "    cerebro.adddata(data)\n",
    "    \n",
    "    # Set cash inside the strategy\n",
    "    cerebro.broker = bt.brokers.BackBroker(coc=True)   \n",
    "    cerebro.broker.setcash(2000)\n",
    "\n",
    "    # Set commission\n",
    "    #cerebro.broker.setcommission()\n",
    "\n",
    "    # Print out the starting conditions\n",
    "    start_value = cerebro.broker.getvalue()\n",
    "    print('Starting Portfolio Value: %.2f' % cerebro.broker.getvalue())\n",
    "\n",
    "    # Run over everything\n",
    "    cerebro.run()\n",
    "\n",
    "    # Print out the final result\n",
    "    final_value = cerebro.broker.getvalue()\n",
    "    print('Final Portfolio Value: %.2f' % cerebro.broker.getvalue())\n",
    "    print('Net Profit: %.2f%%' % ((final_value - start_value) / start_value * 100))"
   ]
  },
  {
   "cell_type": "code",
   "execution_count": null,
   "id": "b2aaba4e",
   "metadata": {},
   "outputs": [],
   "source": [
    "%matplotlib notebook\n",
    "cerebro.plot()"
   ]
  },
  {
   "cell_type": "markdown",
   "id": "0af3d2a8",
   "metadata": {},
   "source": [
    "# 全市场回测"
   ]
  },
  {
   "cell_type": "code",
   "execution_count": null,
   "id": "a825f83f",
   "metadata": {},
   "outputs": [],
   "source": [
    "profit_list = []\n",
    "\n",
    "pro = ts.pro_api('74f1379591c9d810854fa5891fffcacaba514b82bf17ec2e239025b6')\n",
    "stock_list = pro.stock_basic(exchange='', list_status='L', fields='ts_code,symbol,name,area,industry,list_date').ts_code.tolist()\n",
    "for stock_c in stock_list[4301:4900]:\n",
    "    # Create a cerebro entity\n",
    "    cerebro = bt.Cerebro()\n",
    "\n",
    "    # Add a strategy\n",
    "    strats = cerebro.addstrategy(Strategy_wave1,printlog=False, smoothing_period=7) \n",
    "\n",
    "    s_date = datetime.datetime.now() - datetime.timedelta(days = 365)\n",
    "    e_date = datetime.datetime.now()\n",
    "\n",
    "    # Create stock Data Feed\n",
    "    df = utilsJ.stock_tushare('74f1379591c9d810854fa5891fffcacaba514b82bf17ec2e239025b6', \n",
    "                        stock_c, s_date, e_date)\n",
    "    data = bt.feeds.PandasData(dataname=df,fromdate=s_date,todate=e_date)\n",
    "\n",
    "    # Add the index Data Feed to Cerebo\n",
    "    cerebro.adddata(data)\n",
    "    \n",
    "    # Set cash inside the strategy\n",
    "    cerebro.broker = bt.brokers.BackBroker(coc=True)   \n",
    "    cerebro.broker.setcash(10000)\n",
    "\n",
    "    # Set commission\n",
    "    #cerebro.broker.setcommission()\n",
    "\n",
    "    # Print out the starting conditions\n",
    "    start_value = cerebro.broker.getvalue()\n",
    "    #print('Starting Portfolio Value: %.2f' % cerebro.broker.getvalue())\n",
    "\n",
    "    # Run over everything\n",
    "    cerebro.run()\n",
    "\n",
    "    # Print out the final result\n",
    "    final_value = cerebro.broker.getvalue()\n",
    "    #print('Final Portfolio Value: %.2f' % cerebro.broker.getvalue())\n",
    "    net_profit = (final_value - start_value) / start_value * 100\n",
    "    profit_list.append((stock_c, net_profit))\n",
    "    time.sleep(0.5)"
   ]
  },
  {
   "cell_type": "code",
   "execution_count": null,
   "id": "d2983496",
   "metadata": {},
   "outputs": [],
   "source": [
    "sorted(profit_list, key=lambda x: x[1], reverse=True)"
   ]
  }
 ],
 "metadata": {
  "kernelspec": {
   "display_name": "Python 3 (ipykernel)",
   "language": "python",
   "name": "python3"
  },
  "language_info": {
   "codemirror_mode": {
    "name": "ipython",
    "version": 3
   },
   "file_extension": ".py",
   "mimetype": "text/x-python",
   "name": "python",
   "nbconvert_exporter": "python",
   "pygments_lexer": "ipython3",
   "version": "3.8.13"
  },
  "vscode": {
   "interpreter": {
    "hash": "178729c8f5e9eedf2bae7ea816478a89001acb4e6c66f13ce64ddbee9dd2f878"
   }
  }
 },
 "nbformat": 4,
 "nbformat_minor": 5
}
